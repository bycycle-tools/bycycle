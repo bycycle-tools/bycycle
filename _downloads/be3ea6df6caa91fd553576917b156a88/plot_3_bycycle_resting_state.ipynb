{
  "cells": [
    {
      "cell_type": "markdown",
      "metadata": {},
      "source": [
        "\n# 3. Cycle-by-cycle analysis of resting state data\n\nSimulated experiment using the cycle-by-cycle approach.\n\nSay we ran an experiment and want to compare subjects' resting state data for some reason. Maybe we\nwant to study age, gender, disease state, or something. This has often been done to study\ndifferences in oscillatory power or coupling between groups of people. In this notebook, we will run\nthrough how to use bycycle to analyze resting state data.\n\nIn this example, we have 20 subjects (10 patients, 10 control), and we for some reason hypothesized\nthat their alpha oscillations may be systematically different. For example,\nwe think the patient group should have more top-down input that increases the synchrony in the\noscillatory input (measured by its symmetry).\n"
      ]
    },
    {
      "cell_type": "code",
      "execution_count": null,
      "metadata": {
        "collapsed": false
      },
      "outputs": [],
      "source": [
        "import numpy as np\nfrom scipy import stats\nimport matplotlib.pyplot as plt\nimport pandas as pd\n\nfrom neurodsp.sim import sim_combined\nfrom neurodsp.filt import filter_signal\nfrom neurodsp.plts import plot_time_series\n\nfrom bycycle import BycycleGroup\nfrom bycycle.plts import plot_burst_detect_summary, plot_feature_categorical\n\npd.options.display.max_columns = 10"
      ]
    },
    {
      "cell_type": "markdown",
      "metadata": {},
      "source": [
        "## Load simulated experiment of 10 patients and 10 controls\n\n"
      ]
    },
    {
      "cell_type": "code",
      "execution_count": null,
      "metadata": {
        "collapsed": false
      },
      "outputs": [],
      "source": [
        "# Simulate experimental data\nnp.random.seed(0)\nn_seconds = 10\nfs = 1000\nn_subjects = 20\nsigs = np.zeros((n_subjects, int(fs * n_seconds)))\n\nfor subject_idx in range(n_subjects):\n\n    # Manipulate the rise-decay symmetry between the two groups\n    rdsym = .35 if subject_idx <= int(n_subjects/2) else 0.5\n\n    components = {'sim_bursty_oscillation': {'freq': 10, 'enter_burst': .1, 'leave_burst': .1,\n                                             'cycle': 'asine', 'rdsym': rdsym},\n                  'sim_powerlaw': {'f_range': (2, None)}}\n\n    sigs[subject_idx] = sim_combined(n_seconds, fs, components=components, component_variances=(5, 1))\n\n\n# Apply lowpass filter to each signal\nfor idx in range(len(sigs)):\n    sigs[idx] = filter_signal(sigs[idx], fs, 'lowpass', 30, n_seconds=.2, remove_edges=False)"
      ]
    },
    {
      "cell_type": "code",
      "execution_count": null,
      "metadata": {
        "collapsed": false
      },
      "outputs": [],
      "source": [
        "# Plot an example signal\nn_signals = len(sigs)\nn_seconds = len(sigs[0])/fs\ntimes = np.arange(0, n_seconds, 1/fs)\n\nplot_time_series(times, sigs[0], lw=2)"
      ]
    },
    {
      "cell_type": "markdown",
      "metadata": {},
      "source": [
        "## Compute cycle-by-cycle features\n\n"
      ]
    },
    {
      "cell_type": "code",
      "execution_count": null,
      "metadata": {
        "collapsed": false
      },
      "outputs": [],
      "source": [
        "# Frequency band of interest\nf_alpha = (7, 13)\n\n# Tuned burst detection parameters\nthresholds = {\n    'amp_fraction': .2,\n    'amp_consistency': .5,\n    'period_consistency': .5,\n    'monotonicity': .9,\n    'min_n_cycles': 2\n}\n\n# Compute features for each signal\nbg = BycycleGroup(thresholds=thresholds)\nbg.fit(sigs, fs, f_alpha)\n\n# Recompute cycles on edges of bursts with reduced thresholds\nbg.recompute_edges(.01)\n\n# Add group and subject ids to dataframes\ngroups = ['patient' if idx >= int(n_signals/2) else 'control' for idx in range(n_signals)]\nsubject_ids = [idx for idx in range(n_signals)]\n\nfor idx, group in enumerate(groups):\n    bg.df_features[idx]['group'] = group\n    bg.df_features[idx]['subject_id'] = subject_ids[idx]\n\n# Concatenate the list of dataframes\ndf_features = pd.concat(bg.df_features)"
      ]
    },
    {
      "cell_type": "code",
      "execution_count": null,
      "metadata": {
        "collapsed": false
      },
      "outputs": [],
      "source": [
        "df_features.head()"
      ]
    },
    {
      "cell_type": "markdown",
      "metadata": {},
      "source": [
        "## Confirm appropriateness of burst detection parameters\n\nThese burst detection parameters seem appropriate because they mostly restrict the analysis to\nperiods of the signal that appear to be bursting. This was confirmed by looking at a few different\nsignal segments from a few subjects.\n\n"
      ]
    },
    {
      "cell_type": "code",
      "execution_count": null,
      "metadata": {
        "collapsed": false
      },
      "outputs": [],
      "source": [
        "bg[0].plot(xlim=(0, 10), figsize=(16, 3))"
      ]
    },
    {
      "cell_type": "markdown",
      "metadata": {},
      "source": [
        "## Analyze cycle-by-cycle features\n\nNote the significant difference between the treatment and control groups for rise-decay symmetry\nbut not the other features.\n\n"
      ]
    },
    {
      "cell_type": "code",
      "execution_count": null,
      "metadata": {
        "collapsed": false
      },
      "outputs": [],
      "source": [
        "# Only consider cycles that were identified to be in bursting regimes\ndf_features_burst = df_features[df_features['is_burst']]\n\n# Compute average features across subjects in a recording\nfeatures_keep = ['volt_amp', 'period', 'time_rdsym', 'time_ptsym']\ndf_subjects = df_features_burst.groupby(['group', 'subject_id']).mean()[features_keep].reset_index()\ndf_subjects.head()"
      ]
    },
    {
      "cell_type": "code",
      "execution_count": null,
      "metadata": {
        "collapsed": false
      },
      "outputs": [],
      "source": [
        "fig, axes = plt.subplots(figsize=(15, 15), nrows=2, ncols=2)\n\n\nplot_feature_categorical(df_subjects, 'volt_amp', group_by='group', ax=axes[0][0],\n                         xlabel=['Patient', 'Control'], ylabel='Amplitude')\n\nplot_feature_categorical(df_subjects, 'period', group_by='group', ax=axes[0][1],\n                         xlabel=['Patient', 'Control'], ylabel='Period (ms)')\n\nplot_feature_categorical(df_subjects, 'time_rdsym', group_by='group', ax=axes[1][0],\n                         xlabel=['Patient', 'Control'], ylabel='Rise-Decay Symmetry')\n\nplot_feature_categorical(df_subjects, 'time_ptsym', group_by='group', ax=axes[1][1],\n                         xlabel=['Patient', 'Control'], ylabel='Peak-Trough Symmetry')"
      ]
    },
    {
      "cell_type": "markdown",
      "metadata": {},
      "source": [
        "## Statistical differences in cycle features\n\n"
      ]
    },
    {
      "cell_type": "code",
      "execution_count": null,
      "metadata": {
        "collapsed": false
      },
      "outputs": [],
      "source": [
        "feature_names = {'volt_amp': 'Amplitude',\n                 'period': 'Period (ms)',\n                 'time_rdsym': 'Rise-Decay Symmetry',\n                 'time_ptsym': 'Peak-Trough Symmetry'}\n\nfor feat, feat_name in feature_names.items():\n\n    x_treatment = df_subjects[df_subjects['group'] == 'patient'][feat]\n    x_control = df_subjects[df_subjects['group'] == 'control'][feat]\n    ustat, pval = stats.mannwhitneyu(x_treatment, x_control)\n    print('{:20s} difference between groups, U= {:3.0f}, p={:.5f}'.format(feat_name, ustat, pval))"
      ]
    }
  ],
  "metadata": {
    "kernelspec": {
      "display_name": "Python 3",
      "language": "python",
      "name": "python3"
    },
    "language_info": {
      "codemirror_mode": {
        "name": "ipython",
        "version": 3
      },
      "file_extension": ".py",
      "mimetype": "text/x-python",
      "name": "python",
      "nbconvert_exporter": "python",
      "pygments_lexer": "ipython3",
      "version": "3.13.2"
    }
  },
  "nbformat": 4,
  "nbformat_minor": 0
}