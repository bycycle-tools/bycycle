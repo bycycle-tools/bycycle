{
  "cells": [
    {
      "cell_type": "markdown",
      "metadata": {},
      "source": [
        "\n# 1. Cycle-by-cycle philosophy\n\nMotivations behind the cycle-by-cycle approach.\n\nNeural signals, like the example shown below, are analyzed in order to extract information about\nbrain activity. Basically, we process these signals in order to extract features that will hopefully\ncorrelate with a behavior, pathology, or something else.\n\nAs the most prominent feature of these signals tends to be the oscillations in them, spectral\nanalysis is often applied in order to characterize these rhythms in terms of their frequency, power,\nand phase.\n\nThe conventional approach to analyzing these properties as a function of time is to only study a\nnarrowband signal by applying a wavelet transform or bandpass filtering followed by the Hilbert\ntransform. The latter is demonstrated below.\n"
      ]
    },
    {
      "cell_type": "markdown",
      "metadata": {},
      "source": [
        "## Conventional analysis of amplitude and phase: Hilbert Transform\n\n"
      ]
    },
    {
      "cell_type": "code",
      "execution_count": null,
      "metadata": {
        "collapsed": false
      },
      "outputs": [],
      "source": [
        "import numpy as np\nimport matplotlib.pyplot as plt\n\nfrom neurodsp.sim import sim_combined\nfrom neurodsp.utils import create_times\nfrom neurodsp.filt import filter_signal\nfrom neurodsp.timefrequency import amp_by_time, phase_by_time\nfrom neurodsp.plts import plot_time_series, plot_instantaneous_measure\n\n\n# Simulation settings\nn_seconds = 10\nfs = 1000\ncomponents = {'sim_bursty_oscillation': {'freq': 10, 'enter_burst': .1, 'leave_burst': .1,\n                                         'cycle': 'asine', 'rdsym': 0.3},\n              'sim_powerlaw': {'f_range': (2, None)}}\nsig = sim_combined(n_seconds, fs, components=components, component_variances=(2, 1))\n\n# Filter settings\nf_alpha = (8, 12)\nn_seconds_filter = .5\n\n# Compute amplitude and phase\nsig_filt = filter_signal(sig, fs, 'bandpass', f_alpha, n_seconds=n_seconds_filter)\ntheta_amp = amp_by_time(sig, fs, f_alpha, n_seconds=n_seconds_filter)\ntheta_phase = phase_by_time(sig, fs, f_alpha, n_seconds=n_seconds_filter)\n\n# Plot signal\ntimes = create_times(n_seconds, fs)\nxlim = (2, 6)\ntidx = np.logical_and(times >= xlim[0], times < xlim[1])\n\nfig, axes = plt.subplots(figsize=(15, 9), nrows=3)\n\n# Plot the raw signal\nplot_time_series(times[tidx], sig[tidx], ax=axes[0], ylabel='Voltage (mV)',\n                 xlabel='', lw=2, labels='raw signal')\n\n# Plot the filtered signal and oscillation amplitude\nplot_instantaneous_measure(times[tidx], [sig_filt[tidx], theta_amp[tidx]],\n                           ax=axes[1], measure='amplitude', lw=2, xlabel='',\n                           labels=['filtered signal', 'amplitude'])\n\n# Plot the phase\nplot_instantaneous_measure(times[tidx], theta_phase[tidx], ax=axes[2], colors='r',\n                           measure='phase', lw=2, xlabel='Time (s)')"
      ]
    },
    {
      "cell_type": "markdown",
      "metadata": {},
      "source": [
        "This conventional analysis has some advantages and disadvantages. As for advantages:\n\n- Quick calculation\n- Neat mathematical theory\n- Results largely make sense\n- Defined at every point in time.\n\nBecause of this last property, these traces have come to be known as \"instantaneous amplitude\"\nand \"instantaneous phase.\" And they seem to make a lot of sense, when looking at the raw signal.\n\nHowever, there are some key disadvantages to this analysis that stem from its sine wave basis.\n\n1. Being defined at every point in time gives the illusion that the phase and amplitude estimates\n   are valid at all points in time. However, the amplitude and phase estimates are pretty garbage\n   when there's no oscillation going on (the latter half of the time series above). The \"amplitude\"\n   and \"phase\" values are meaningless when no oscillation is actually present. Rather, they are\n   influenced by the other aspects of the signal, such as transients. For this reason, these measures\n   are flaws, and burst detection is very important to help alleviate this issue.\n2. This analysis does not capture a potentially important aspect of the data, in that the\n   oscillatory cycles tend to have short rises and longer decays. This is partly because the signal\n   is filtered in a narrow frequency band (using a sine wave basis) that cannot accurately\n   reconstruct nonsinusoidal waveforms. Furthermore, this nonsinusoidal feature will unintuitively\n   bias amplitude and phase estimates (though perhaps negligibly). Furthermore, there are no apparent\n   tools for extracting nonsinusoidal properties using conventional techniques.\n\n\n### Note that different hyperparameter choices for filters can lead to significant differences in results\n\nWhen effect sizes are small, these hyperparameter choices may make a crucial difference.\n\n\n"
      ]
    },
    {
      "cell_type": "code",
      "execution_count": null,
      "metadata": {
        "collapsed": false
      },
      "outputs": [],
      "source": [
        "# Different hyperparameter choices - filter length and center frequency and bandwidth\nf_alphas = [(6, 14), (8, 12), (9, 13)]\nn_seconds = [.4, .75, 1.2]\n\namps = []\nphases = []\n\nfor f_alpha in f_alphas:\n\n    for n_second_filter in n_seconds:\n\n        amp = amp_by_time(sig, fs, f_alpha, n_seconds=n_second_filter)\n        phase = phase_by_time(sig, fs, f_alpha, n_seconds=n_second_filter)\n\n        amps.append(amp)\n        phases.append(phase)\n\nfig, axes = plt.subplots(figsize=(15, 6), nrows=2)\n\nplot_instantaneous_measure(times, amps, ax=axes[0], xlim=(2,6),\n                           measure='amplitude', lw=2, xlabel='')\n\nplot_instantaneous_measure(times, phases, ax=axes[1], xlim=(2,6),\n                           measure='phase',lw=2)"
      ]
    },
    {
      "cell_type": "markdown",
      "metadata": {},
      "source": [
        "# Cycle-by-cycle approach\n\nThe main issues in the conventional approach are because the measurements of amplitude and phase\nare very indirect, using certain transforms in the frequency domain defined by sine waves.\nTherefore, we developed an alternative approach that analyzes oscillatory properties more directly\nby staying in the time domain. Arguably, it is best to analyze these signals in the time domain\nbecause this is the domain in which they are generated (the brain does not generate sums of\nindependent sine waves).\n\nThe benefits of this alternative approach may include:\n\n- More direct measurements of amplitude and frequency may be more accurate (see Figures 5 and 6 \\\n  in the associated preprint).\n- Characterization of waveform shape, in addition to amplitude and phase and frequency.\n- Explicit definitions of which portions of the signal are suitable for analysis (in oscillatory \\\n  bursts) or not (no oscillation present).\n- It is important to note that this approach also has some key disadvantages. First, it is not \\\n  widely adopted like the conventional techniques. Second, it requires more hyperparameter \\\n  choosing and potentialyy more quality control compared to conventional techniques. I emphasize \\\n  how important it is to visualize the cycle-by-cycle characterization and burst detection to \\\n  assure that the metrics match the intuition. However, this is not commonly expected or \\\n  performed using conventional techniques.\n\n\n"
      ]
    }
  ],
  "metadata": {
    "kernelspec": {
      "display_name": "Python 3",
      "language": "python",
      "name": "python3"
    },
    "language_info": {
      "codemirror_mode": {
        "name": "ipython",
        "version": 3
      },
      "file_extension": ".py",
      "mimetype": "text/x-python",
      "name": "python",
      "nbconvert_exporter": "python",
      "pygments_lexer": "ipython3",
      "version": "3.13.2"
    }
  },
  "nbformat": 4,
  "nbformat_minor": 0
}