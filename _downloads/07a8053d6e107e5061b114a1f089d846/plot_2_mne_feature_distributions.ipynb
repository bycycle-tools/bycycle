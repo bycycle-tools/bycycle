{
  "cells": [
    {
      "cell_type": "markdown",
      "metadata": {},
      "source": [
        "\n# 2. MNE Interface Cycle Feature Distributions\n\nCompute bycycle feature distributions using MNE objects.\n"
      ]
    },
    {
      "cell_type": "markdown",
      "metadata": {},
      "source": [
        "## Import Packages and Load Data\n\nFirst let's import the packages we need. This example depends on mne.\n\n"
      ]
    },
    {
      "cell_type": "code",
      "execution_count": null,
      "metadata": {
        "collapsed": false
      },
      "outputs": [],
      "source": [
        "import numpy as np\nimport matplotlib.pyplot as plt\n\nfrom mne.io import read_raw_fif\nfrom mne.datasets import sample\nfrom mne import pick_channels\n\nfrom neurodsp.plts import plot_time_series\nfrom bycycle import BycycleGroup\nfrom bycycle.plts import plot_feature_hist"
      ]
    },
    {
      "cell_type": "code",
      "execution_count": null,
      "metadata": {
        "collapsed": false
      },
      "outputs": [],
      "source": [
        "# Frequencies of interest: the alpha band\nf_alpha = (8, 15)\n\n# Get the data path for the MNE example data\nraw_fname = str(sample.data_path()) + '/MEG/sample/sample_audvis_filt-0-40_raw.fif'\n\n# Load the file of example MNE data\nraw = read_raw_fif(raw_fname, preload=True, verbose=False)\n\n# Select EEG channels from the dataset\nraw = raw.pick_types(meg=False, eeg=True, eog=False, exclude='bads')\n\n# Grab the sampling rate from the data\nfs = raw.info['sfreq']\n\n# filter to alpha\nraw = raw.filter(l_freq=None, h_freq=20.)\n\n# Settings for exploring example channels of data\nchs = ['EEG 042', 'EEG 043', 'EEG 044']\nt_start = 20000\nt_stop = int(t_start + (10 * fs))\n\n# Extract an example channels to explore\nsigs, times = raw.get_data(pick_channels(raw.ch_names, chs),\n                           start=t_start, stop=t_stop, return_times=True)"
      ]
    },
    {
      "cell_type": "markdown",
      "metadata": {},
      "source": [
        "### Plot time series for each recording\n\nNow let's see how each signal looks in time. This looks like standard EEG\ndata.\n\n\n"
      ]
    },
    {
      "cell_type": "code",
      "execution_count": null,
      "metadata": {
        "collapsed": false
      },
      "outputs": [],
      "source": [
        "# Plot the signal\nplot_time_series(times, [sig * 1e6 for sig in sigs], labels=chs, title='EEG Signal')"
      ]
    },
    {
      "cell_type": "markdown",
      "metadata": {},
      "source": [
        "### Compute cycle-by-cycle features\n\nHere we use the `BycycleGroup` class to compute the cycle-by-\ncycle features of the three signals.\n\n\n"
      ]
    },
    {
      "cell_type": "code",
      "execution_count": null,
      "metadata": {
        "collapsed": false
      },
      "outputs": [],
      "source": [
        "# Set parameters for defining oscillatory bursts\nthresholds = {\n    'amp_fraction_threshold': 0.3,\n    'amp_consistency_threshold': 0.4,\n    'period_consistency_threshold': 0.5,\n    'monotonicity_threshold': 0.8,\n    'min_n_cycles': 3\n}\n\n# Create a dictionary of cycle feature dataframes, corresponding to each channel\nbg = BycycleGroup(thresholds=thresholds, center_extrema='trough')\nbg.fit(sigs, fs, f_alpha, axis=0)\n\ndfs = {ch: df for df, ch in zip(bg.df_features, chs)}"
      ]
    },
    {
      "cell_type": "markdown",
      "metadata": {},
      "source": [
        "### Plot feature distributions\n\nAs it turns out, none of the channels in the mne example audio and visual\ntask has waveform asymmetry. These data were collected from a healthy\nperson while they listened to beeps or saw gratings on a screen\nso this is not unexpected.\n\n\n"
      ]
    },
    {
      "cell_type": "code",
      "execution_count": null,
      "metadata": {
        "collapsed": false
      },
      "outputs": [],
      "source": [
        "fig, axes = plt.subplots(figsize=(15, 15), nrows=2, ncols=2)\n\nfor ch, df in dfs.items():\n\n    # Rescale amplitude and period features\n    df['volt_amp'] = df['volt_amp'] * 1e6\n    df['period'] = df['period'] / fs * 1000\n\n    # Plot feature histograms\n    plot_feature_hist(df, 'volt_amp', only_bursts=False, ax=axes[0][0], label=ch,\n                      xlabel='Cycle amplitude (mV)', bins=np.arange(0, 40, 4))\n\n    plot_feature_hist(df, 'period', only_bursts=False, ax=axes[0][1], label=ch,\n                      xlabel='Cycle period (ms)', bins=np.arange(0, 250, 25))\n\n    plot_feature_hist(df, 'time_rdsym', only_bursts=False, ax=axes[1][0], label=ch,\n                      xlabel='Rise-decay asymmetry', bins=np.arange(0, 1, .1))\n\n    plot_feature_hist(df, 'time_ptsym', only_bursts=False, ax=axes[1][1], label=ch,\n                      xlabel='Peak-trough asymmetry', bins=np.arange(0, 1, .1))"
      ]
    }
  ],
  "metadata": {
    "kernelspec": {
      "display_name": "Python 3",
      "language": "python",
      "name": "python3"
    },
    "language_info": {
      "codemirror_mode": {
        "name": "ipython",
        "version": 3
      },
      "file_extension": ".py",
      "mimetype": "text/x-python",
      "name": "python",
      "nbconvert_exporter": "python",
      "pygments_lexer": "ipython3",
      "version": "3.13.2"
    }
  },
  "nbformat": 4,
  "nbformat_minor": 0
}