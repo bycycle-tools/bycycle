{
  "cells": [
    {
      "cell_type": "markdown",
      "metadata": {},
      "source": [
        "\n# 1. Theta oscillation cycle feature distributions\n\nCompute and compare the distributions of bycycle features for two recordings.\n"
      ]
    },
    {
      "cell_type": "code",
      "execution_count": null,
      "metadata": {
        "collapsed": false
      },
      "outputs": [],
      "source": [
        "import numpy as np\nimport matplotlib.pyplot as plt\n\nfrom neurodsp.filt import filter_signal\nfrom neurodsp.plts import plot_time_series\n\nfrom bycycle import BycycleGroup\nfrom bycycle.plts.features import plot_feature_hist\nfrom bycycle.utils.download import load_bycycle_data"
      ]
    },
    {
      "cell_type": "markdown",
      "metadata": {},
      "source": [
        "## Load and preprocess data\n\n"
      ]
    },
    {
      "cell_type": "code",
      "execution_count": null,
      "metadata": {
        "collapsed": false
      },
      "outputs": [],
      "source": [
        "# Load data\nca1_raw = load_bycycle_data('ca1.npy', folder='data')\nec3_raw = load_bycycle_data('ec3.npy', folder='data')\nfs = 1250\nf_theta = (4, 10)"
      ]
    },
    {
      "cell_type": "code",
      "execution_count": null,
      "metadata": {
        "collapsed": false
      },
      "outputs": [],
      "source": [
        "# Apply a lowpass filter at 25Hz\nfc = 25\nfilter_seconds = .5\n\nca1 = filter_signal(ca1_raw, fs, 'lowpass', fc, n_seconds=filter_seconds,\n                    remove_edges=False)\nec3 = filter_signal(ec3_raw, fs, 'lowpass', fc, n_seconds=filter_seconds,\n                    remove_edges=False)"
      ]
    },
    {
      "cell_type": "markdown",
      "metadata": {},
      "source": [
        "## Compute cycle-by-cycle features\n\n"
      ]
    },
    {
      "cell_type": "code",
      "execution_count": null,
      "metadata": {
        "collapsed": false
      },
      "outputs": [],
      "source": [
        "# Set parameters for defining oscillatory bursts\nthresholds = {\n    'amp_fraction_threshold': 0,\n    'amp_consistency_threshold': .6,\n    'period_consistency_threshold': .75,\n    'monotonicity_threshold': .8,\n    'min_n_cycles': 3\n}\n\n# Cycle-by-cycle analysis\nsigs = np.array([ca1, ec3])\n\nbg = BycycleGroup(thresholds=thresholds, center_extrema='trough', return_samples=False)\nbg.fit(sigs, fs, f_theta)\n\ndf_ca1, df_ec3 = bg.df_features\n\n# Limit analysis only to oscillatory bursts\ndf_ca1_cycles = df_ca1[df_ca1['is_burst']]\ndf_ec3_cycles = df_ec3[df_ec3['is_burst']]"
      ]
    },
    {
      "cell_type": "markdown",
      "metadata": {},
      "source": [
        "## Plot time series for each recording\n\n"
      ]
    },
    {
      "cell_type": "code",
      "execution_count": null,
      "metadata": {
        "collapsed": false
      },
      "outputs": [],
      "source": [
        "# Choose samples to plot\nsamplims = (10000, 12000)\nca1_plt = ca1_raw[samplims[0]:samplims[1]]\nec3_plt = ec3_raw[samplims[0]:samplims[1]]\ntimes = np.arange(0, len(ca1_plt)/fs, 1/fs)\n\nfig, axes = plt.subplots(figsize=(15, 6), nrows=2)\n\nplot_time_series(times, ca1_plt, ax=axes[0], xlim=(0, 1.6), ylim=(-2.4, 2.4),\n                 xlabel=\"Time (s)\", ylabel=\"CA1 Voltage (mV)\")\n\nplot_time_series(times, ec3_plt, ax=axes[1], colors='r', xlim=(0, 1.6),\n                 ylim=(-2.4, 2.4), xlabel=\"Time (s)\", ylabel=\"EC3 Voltage (mV)\")"
      ]
    },
    {
      "cell_type": "markdown",
      "metadata": {},
      "source": [
        "## Plot feature distributions\n\n"
      ]
    },
    {
      "cell_type": "code",
      "execution_count": null,
      "metadata": {
        "collapsed": false
      },
      "outputs": [],
      "source": [
        "fig, axes = plt.subplots(figsize=(15, 15), nrows=2, ncols=2)\n\n# Plot cycle amplitude\ncycles_ca1 = df_ca1_cycles['volt_amp']\ncycles_ec3 = df_ec3_cycles['volt_amp']\n\nplot_feature_hist(cycles_ca1, 'volt_amp', ax=axes[0][0], xlabel='Cycle amplitude (mV)',\n                  xlim=(0, 4.5), color='k', bins=np.arange(0, 8, .1))\n\nplot_feature_hist(cycles_ec3, 'volt_amp', ax=axes[0][0], xlabel='Cycle amplitude (mV)',\n                  xlim=(0, 4.5), color='r', bins=np.arange(0, 8, .1))\n\naxes[0][0].legend(['CA1', 'EC3'], fontsize=15)\n\n# Plot cycle period\nperiods_ca1 = df_ca1_cycles['period'] / fs * 1000\nperiods_ec3 = df_ec3_cycles['period'] / fs * 1000\n\nplot_feature_hist(periods_ca1, 'period', ax=axes[0][1], xlabel='Cycle period (ms)',\n                  xlim=(0, 250), color='k', bins=np.arange(0, 250, 5))\n\nplot_feature_hist(periods_ec3, 'volt_amp', ax=axes[0][1], xlabel='Cycle period (ms)',\n                  xlim=(0, 250), color='r', bins=np.arange(0, 250, 5))\n\n# Plot rise/decay symmetry\nplot_feature_hist(df_ca1_cycles, 'time_rdsym', ax=axes[1][0], xlim=(0, 1), color='k',\n                  xlabel='Rise-decay asymmetry\\n(fraction of cycle in rise period)',\n                  bins=np.arange(0, 1, .02))\n\nplot_feature_hist(df_ec3_cycles, 'time_rdsym', ax=axes[1][0], xlim=(0, 1), color='r',\n                  xlabel='Rise-decay asymmetry\\n(fraction of cycle in rise period)',\n                  bins=np.arange(0, 1, .02))\n\n# Plot peak/trough symmetry\nplot_feature_hist(df_ca1_cycles, 'time_ptsym', ax=axes[1][1], color='k',\n                  xlabel='Peak-trough asymmetry\\n(fraction of cycle in peak period)',\n                  bins=np.arange(0, 1, .02))\n\nplot_feature_hist(df_ec3_cycles, 'time_ptsym', ax=axes[1][1], color='r',\n                  xlabel='Peak-trough asymmetry\\n(fraction of cycle in peak period)',\n                  bins=np.arange(0, 1, .02))"
      ]
    }
  ],
  "metadata": {
    "kernelspec": {
      "display_name": "Python 3",
      "language": "python",
      "name": "python3"
    },
    "language_info": {
      "codemirror_mode": {
        "name": "ipython",
        "version": 3
      },
      "file_extension": ".py",
      "mimetype": "text/x-python",
      "name": "python",
      "nbconvert_exporter": "python",
      "pygments_lexer": "ipython3",
      "version": "3.13.2"
    }
  },
  "nbformat": 4,
  "nbformat_minor": 0
}