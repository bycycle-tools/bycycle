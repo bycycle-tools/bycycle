{
  "cells": [
    {
      "cell_type": "markdown",
      "metadata": {},
      "source": [
        "\n# 5. Running Bycycle on 3D Arrays\n\nCompute bycycle features for 3D organizations of timeseries.\n\nBycycle supports computing the features of 3D signals using :class:`~.BycycleGroup`.\nSignals may be organized in a different ways, including (n_participants, n_channels, n_timepoints)\nor (n_channels, n_epochs, n_timepoints). The difference between these organizations is that\ncontinuity may be assumed across epochs, but not channels. The ``axis`` argument is used to\nspecificy the axis to iterate over in parallel.\n"
      ]
    },
    {
      "cell_type": "code",
      "execution_count": null,
      "metadata": {
        "collapsed": false
      },
      "outputs": [],
      "source": [
        "import numpy as np\nimport pandas as pd\nimport matplotlib.pyplot as plt\n\nfrom neurodsp.sim import sim_combined\n\nfrom bycycle import BycycleGroup\nfrom bycycle.plts import plot_feature_categorical\nfrom bycycle.utils import flatten_dfs"
      ]
    },
    {
      "cell_type": "markdown",
      "metadata": {},
      "source": [
        "## Example 1. The ``axis`` Argument\n\nHere, we will show how the axis arguments works by iterating over slices of an 3D array.\nThe axis argument be may specified as:\n\n- ``axis=0`` : Iterates over 2D slices along the zeroth dimension, (i.e. for each channel in\n  (n_channels, n_epochs, n_timepoints)).\n- ``axis=1`` : Iterates over 2D slices along the first dimension (i.e. across flatten epochs in\n  (n_epochs, n_timepoints)).\n- ``axis=(0, 1)`` : Iterates over 1D slices along the zeroth and first dimension (i.e across\n  each signal independently in (n_participants, n_channels, n_timepoints)).\n\n\n"
      ]
    },
    {
      "cell_type": "code",
      "execution_count": null,
      "metadata": {
        "collapsed": false
      },
      "outputs": [],
      "source": [
        "arr = np.ones((2, 3, 4))\n\ndim0_len = np.shape(arr)[0]\ndim1_len = np.shape(arr)[1]\n\nprint(\"axis=0\")\nfor dim0 in range(dim0_len):\n    print(np.shape(arr[dim0]))\n\nprint(\"\\naxis=1\")\nfor dim1 in range(dim1_len):\n    print(np.shape(arr[:, dim1]))\n\nprint(\"\\naxis=(0, 1)\")\nfor dim0 in range(dim0_len):\n    for dim1 in range(dim1_len):\n        print(np.shape(arr[dim0, dim1]))"
      ]
    },
    {
      "cell_type": "markdown",
      "metadata": {},
      "source": [
        "## Example 2. 3D Array (n_channels, n_epochs, n_timepoints)\nThe features from a 3d array of (n_channels, n_epochs, n_timepoints) will be computed here.\nBursting frequencies and rise-decay symmetry will be modulated across channels and epochs,\nrespectively. The bursting frequencies and rise-decay symmetries will then be compared between\nthe simulated parameters and bycycle's calculation.\n\n"
      ]
    },
    {
      "cell_type": "code",
      "execution_count": null,
      "metadata": {
        "collapsed": false
      },
      "outputs": [],
      "source": [
        "# Simulation settings\nn_seconds = 10\nfs = 500\n\nf_range = (5, 15)\n\nn_channels = 5\nn_epochs = 10\n\n# Define rdsym values for rest and task trials\nrdsym_rest = 0.5\nrdsym_task = 0.75"
      ]
    },
    {
      "cell_type": "code",
      "execution_count": null,
      "metadata": {
        "collapsed": false
      },
      "outputs": [],
      "source": [
        "# Simulate a 3d timeseries\nsim_components_rest = {'sim_powerlaw': dict(exponent=-2),\n                       'sim_bursty_oscillation': dict(cycle='asine', rdsym=rdsym_rest)}\n\nsim_components_task = {'sim_powerlaw': dict(exponent=-2),\n                       'sim_bursty_oscillation': dict(cycle='asine', rdsym=rdsym_task)}\n\nsigs_rest = np.zeros((n_channels, n_epochs, n_seconds*fs))\nsigs_task = np.zeros((n_channels, n_epochs, n_seconds*fs))\nfreqs = np.linspace(5, 45, 5)\n\nfor ch_idx, freq in zip(range(n_channels), freqs):\n\n    sim_components_rest['sim_bursty_oscillation']['freq'] = freq\n    sim_components_task['sim_bursty_oscillation']['freq'] = freq\n\n    for ep_idx in range(n_epochs):\n\n        sigs_task[ch_idx][ep_idx] = sim_combined(n_seconds, fs, components=sim_components_task)\n        sigs_rest[ch_idx][ep_idx] = sim_combined(n_seconds, fs, components=sim_components_rest)"
      ]
    },
    {
      "cell_type": "code",
      "execution_count": null,
      "metadata": {
        "collapsed": false
      },
      "outputs": [],
      "source": [
        "# Compute features with an higher than default period consistency threshold.\n#   This allows for more accurate estimates of burst frequency.\nthresholds = dict(amp_fraction_threshold=0., amp_consistency_threshold=.5,\n                  period_consistency_threshold=.9, monotonicity_threshold=.6,\n                  min_n_cycles=3)\n\ncompute_kwargs = {'burst_method': 'cycles', 'thresholds': thresholds}\n\nbg_rest = BycycleGroup(**compute_kwargs)\nbg_rest.fit(sigs_rest, fs, (1, 50), axis=0)\n\nbg_task = BycycleGroup(**compute_kwargs)\nbg_task.fit(sigs_task, fs, (1, 50), axis=0)\n\ndf_rest = bg_rest.df_features\ndf_task = bg_task.df_features"
      ]
    },
    {
      "cell_type": "code",
      "execution_count": null,
      "metadata": {
        "collapsed": false
      },
      "outputs": [],
      "source": [
        "# Merge dataframes, preserving channels\nch_labels = [\"CH{ch_ind}\".format(ch_ind=ch_ind) for ch_ind in range(n_channels)]\n\ndf_rest_ch = flatten_dfs(\n    [pd.concat(df_rest[i]) for i in range(n_channels)], ch_labels, 'Channel'\n)\ndf_task_ch = flatten_dfs(\n    [pd.concat(df_task[i]) for i in range(n_channels)], ch_labels, 'Channel'\n)\n\ndf_channels = pd.concat([df_rest_ch, df_task_ch])\n\n# Merge across channels and epochs into a single dataframe\ndf_rest = flatten_dfs(df_rest, ['rest'] * n_channels * n_epochs, 'Epoch')\ndf_task = flatten_dfs(df_task, ['task'] * n_channels * n_epochs, 'Epoch')\n\ndf_epochs = pd.concat([df_rest, df_task])\n\n# Limit to bursts\ndf_epochs = df_epochs[df_epochs['is_burst'] == True]\ndf_channels = df_channels[df_channels['is_burst'] == True]"
      ]
    },
    {
      "cell_type": "code",
      "execution_count": null,
      "metadata": {
        "collapsed": false
      },
      "outputs": [],
      "source": [
        "# Plot estimated frequency\ndf_channels['freqs'] = fs / df_channels['period'].values\n\nplot_feature_categorical(df_channels, 'freqs', 'Channel', ylabel='Burst Frequency',\n                         xlabel=['CH00', 'CH01', 'CH02', 'CH03', 'CH04'])"
      ]
    },
    {
      "cell_type": "code",
      "execution_count": null,
      "metadata": {
        "collapsed": false
      },
      "outputs": [],
      "source": [
        "# Compare estimated frequency to simulatated frequency\nfreqs_est = df_channels.groupby('Channel').mean()['freqs'].values\n\ndf_freqs = pd.DataFrame()\ndf_freqs['Channel'] = ['CH_0{idx}'.format(idx=idx) for idx in range(n_channels)]\ndf_freqs['Simulated Freqs'] = freqs\ndf_freqs['Calculated Freqs'] = freqs_est\ndf_freqs['Error'] = np.abs(freqs - freqs_est)\ndf_freqs"
      ]
    },
    {
      "cell_type": "code",
      "execution_count": null,
      "metadata": {
        "collapsed": false
      },
      "outputs": [],
      "source": [
        "# See how well bycycle estimated each bursting cycle's rise-decay symmetry within epochs\nrdsym_rest = df_epochs[df_epochs['Epoch'] == 'rest']['time_rdsym'].mean()\nrdsym_task = df_epochs[df_epochs['Epoch'] == 'task']['time_rdsym'].mean()\n\ndf_rdsym = pd.DataFrame()\ndf_rdsym['Epoch Type'] = ['Fixation', 'Task']\ndf_rdsym['Simulated rdsym'] = [0.5, 0.75]\n\ndf_rdsym['Calculated rdsym'] = [rdsym_rest, rdsym_task]\ndf_rdsym['Error'] = np.abs(df_rdsym['Simulated rdsym'] - df_rdsym['Calculated rdsym'])\ndf_rdsym"
      ]
    }
  ],
  "metadata": {
    "kernelspec": {
      "display_name": "Python 3",
      "language": "python",
      "name": "python3"
    },
    "language_info": {
      "codemirror_mode": {
        "name": "ipython",
        "version": 3
      },
      "file_extension": ".py",
      "mimetype": "text/x-python",
      "name": "python",
      "nbconvert_exporter": "python",
      "pygments_lexer": "ipython3",
      "version": "3.13.2"
    }
  },
  "nbformat": 4,
  "nbformat_minor": 0
}