{
  "cells": [
    {
      "cell_type": "markdown",
      "metadata": {},
      "source": [
        "\n# 4. Running Bycycle on 2D Arrays\n\nCompute bycycle features for 2D organizations of timeseries.\n\nBycycle supports computing the features of 2D signals using :class:`~.BycycleGroup`.\nSignals may be organized in a different ways, including (n_epochs, n_timepoints) or\n(n_channels, n_timepoints). The difference between these organizataions is that continuity is\npreserved across epochs, but not across channels. The ``axis`` argument is used to specificy either\ncontinuous (``axis=None``) and non-continuous (``axis=0``) recordings.\n"
      ]
    },
    {
      "cell_type": "code",
      "execution_count": null,
      "metadata": {
        "collapsed": false
      },
      "outputs": [],
      "source": [
        "import numpy as np\nimport pandas as pd\nimport matplotlib.pyplot as plt\n\nfrom neurodsp.sim import sim_combined\n\nfrom bycycle import BycycleGroup\nfrom bycycle.utils import flatten_dfs\nfrom bycycle.plts import plot_feature_categorical"
      ]
    },
    {
      "cell_type": "markdown",
      "metadata": {},
      "source": [
        "## Example 1. The ``axis`` Argument\n\nHere, we will show how the axis arguments works. The axis argument be may specified as:\n\n- ``axis=0`` : Iterates over each row/signal in an array independently (i.e. for each channel\n  in (n_channels, n_timepoints)).\n- ``axis=None`` : Flattens rows/signals prior to computing features (i.e. across flatten epochs\n  in (n_epochs, n_timepoints)).\n\n\n"
      ]
    },
    {
      "cell_type": "code",
      "execution_count": null,
      "metadata": {
        "collapsed": false
      },
      "outputs": [],
      "source": [
        "arr = np.ones((3, 4))\n\ndim0_len = np.shape(arr)[0]\n\nprint(\"axis=0\")\nfor dim0 in range(dim0_len):\n    print(np.shape(arr[dim0]))\n\nprint(\"\\naxis=None\")\nprint(np.shape(arr.flatten()))"
      ]
    },
    {
      "cell_type": "markdown",
      "metadata": {},
      "source": [
        "## Example 2. 2D Array (n_epochs, n_timepoints)\nThe features for a 2d array with a (n_epochs, n_timepoints) organization will be computed here.\nThis is an example of when using ``axis = None`` is appropriate, assuming each epoch was recorded\ncontinuously. Data will be simulated to produce to rest and task epochs with varying rise-decay\nsymmetries.\n\n"
      ]
    },
    {
      "cell_type": "code",
      "execution_count": null,
      "metadata": {
        "collapsed": false
      },
      "outputs": [],
      "source": [
        "# Simulation settings\nn_seconds = 10\nfs = 500\n\nfreq = 10\nf_range = (5, 15)\n\nn_epochs = 10\n\n# Define rdsym values for rest and task trials\nrdsym_rest = 0.5\nrdsym_task = 0.75"
      ]
    },
    {
      "cell_type": "code",
      "execution_count": null,
      "metadata": {
        "collapsed": false
      },
      "outputs": [],
      "source": [
        "# Simulate timeseries\nsigs_rest = np.zeros((n_epochs, n_seconds*fs))\nsigs_task = np.zeros((n_epochs, n_seconds*fs))\n\n# Rest epoch\nsim_components_rest = {'sim_powerlaw': dict(exponent=-2),\n                       'sim_bursty_oscillation': dict(freq=10, cycle='asine',\n                                                      enter_burst=0.75, rdsym=rdsym_rest)}\n\n# Task epoch\nsim_components_task = {'sim_powerlaw': dict(exponent=-2),\n                       'sim_bursty_oscillation': dict(freq=10, cycle='asine',\n                                                      enter_burst=0.75, rdsym=rdsym_task)}\n\nfor ep_idx in range(n_epochs):\n    sigs_rest[ep_idx] = sim_combined(n_seconds, fs, components=sim_components_rest)\n    sigs_task[ep_idx] = sim_combined(n_seconds, fs, components=sim_components_task)"
      ]
    },
    {
      "cell_type": "code",
      "execution_count": null,
      "metadata": {
        "collapsed": false
      },
      "outputs": [],
      "source": [
        "# Compute features with default bycycle thresholds\nthresholds = {\n    'amp_fraction':0.,\n    'amp_consistency': .5,\n    'period_consistency': .5,\n    'monotonicity': .8,\n    'min_n_cycles': 3\n}\n\nbg_task = BycycleGroup(thresholds=thresholds)\nbg_task.fit(sigs_task, fs, f_range, axis=None)\n\nbg_rest = BycycleGroup(thresholds=thresholds)\nbg_rest.fit(sigs_rest, fs, f_range, axis=None)"
      ]
    },
    {
      "cell_type": "code",
      "execution_count": null,
      "metadata": {
        "collapsed": false
      },
      "outputs": [],
      "source": [
        "# Merge into a single dataframe\ndf_task = flatten_dfs(bg_task.df_features, ['task'] * len(bg_task), 'Epoch')\ndf_rest = flatten_dfs(bg_rest.df_features, ['rest'] * len(bg_rest), 'Epoch')\n\n# Limit to bursting cycles\ndf_task_bursts = df_task[df_task['is_burst'] == True]\ndf_rest_bursts = df_rest[df_rest['is_burst'] == True]\n\ndf_bursts = pd.concat([df_task_bursts, df_rest_bursts], axis=0)\n\n# Plot\nplot_feature_categorical(df_bursts, 'time_rdsym', group_by='Epoch', ylabel='Rise-Decay Symmetry',\n                         xlabel=['Rest', 'Task'])"
      ]
    }
  ],
  "metadata": {
    "kernelspec": {
      "display_name": "Python 3",
      "language": "python",
      "name": "python3"
    },
    "language_info": {
      "codemirror_mode": {
        "name": "ipython",
        "version": 3
      },
      "file_extension": ".py",
      "mimetype": "text/x-python",
      "name": "python",
      "nbconvert_exporter": "python",
      "pygments_lexer": "ipython3",
      "version": "3.13.2"
    }
  },
  "nbformat": 4,
  "nbformat_minor": 0
}