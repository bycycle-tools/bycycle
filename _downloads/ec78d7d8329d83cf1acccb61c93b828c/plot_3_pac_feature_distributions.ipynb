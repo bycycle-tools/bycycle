{
  "cells": [
    {
      "cell_type": "markdown",
      "metadata": {},
      "source": [
        "\n# 3. PAC Cycle Feature Distributions\n\nCompute bycycle features for simulated phase-amplitude coupled (PAC) data.\n"
      ]
    },
    {
      "cell_type": "markdown",
      "metadata": {},
      "source": [
        "## Import packages\n\nFirst let's import the packages we need. This example depends on the\npactools simulator to make pac and a spurious pac function from the\npactools spurious pac example.\n\n"
      ]
    },
    {
      "cell_type": "code",
      "execution_count": null,
      "metadata": {
        "collapsed": false
      },
      "outputs": [],
      "source": [
        "import numpy as np\nimport matplotlib.pyplot as plt\n\nfrom pactools import simulate_pac, Comodulogram\nfrom pactools.utils.pink_noise import pink_noise\n\nfrom neurodsp.plts import plot_time_series\nfrom neurodsp.sim import sim_oscillation\nfrom neurodsp.utils.norm import normalize_variance\n\nfrom bycycle import BycycleGroup\nfrom bycycle.plts import plot_feature_hist"
      ]
    },
    {
      "cell_type": "markdown",
      "metadata": {},
      "source": [
        "### Simulate PAC data\n\nNow we will use the imported functions to make pac data, spurious pac data\nand a sine wave with pink noise.\n\n\n"
      ]
    },
    {
      "cell_type": "code",
      "execution_count": null,
      "metadata": {
        "collapsed": false
      },
      "outputs": [],
      "source": [
        "n_seconds = 20\nfs = 200.  # Hz\nn_points = int(n_seconds * fs)\n\nf_beta = (14, 28)\nhigh_fq = 80.0  # Hz; carrier frequency\nlow_fq = 24.0  # Hz; driver frequency\nlow_fq_width = 2.0  # Hz\n\nnoise_level = 0.25\n\n# Simulate beta-gamma pac\nsig_pac = simulate_pac(n_points=n_points, fs=fs, high_fq=high_fq, low_fq=low_fq,\n                       low_fq_width=low_fq_width, noise_level=noise_level)\n\n# Simulate 10 Hz spiking which couples to about 60 Hz\nspikes = sim_oscillation(n_seconds, fs, 10, cycle='gaussian', std=0.005)\nnoise = normalize_variance(pink_noise(n_points, slope=1.), variance=.5)\nsig_spurious_pac = spikes + noise\n\n# Simulate a sine wave that is the driver frequency\nsig_low_fq = sim_oscillation(n_seconds, fs, low_fq)\n\n# Add the sine wave to pink noise to make a control, no pac signal\nsig_no_pac = sig_low_fq + noise"
      ]
    },
    {
      "cell_type": "markdown",
      "metadata": {},
      "source": [
        "### Check comodulogram for PAC\n\nNow, we will use the tools from pactools to compute the comodulogram which\nis a visualization of phase amplitude coupling. The stronger the driver\nphase couples with a particular frequency, the brighter the color value.\nThe pac signal has 24 - 80 Hz pac as designed, the spurious pac has 10 - 60 Hz\nspurious pac and the final signal has no pac, just background noise.\n\n"
      ]
    },
    {
      "cell_type": "code",
      "execution_count": null,
      "metadata": {
        "collapsed": false
      },
      "outputs": [],
      "source": [
        "fig, axs = plt.subplots(nrows=3, figsize=(10, 12), sharex=True)\ntitles = ['Signal with PAC', 'Signal with Spurious PAC', 'Signal with no  PAC']\nfor sig, ax, title in zip((sig_pac, sig_spurious_pac, sig_no_pac), axs, titles):\n\n    # Check PAC within only channel; high and low sig are the same\n    #   Use the duprelatour driven autoregressive model to fit the data\n    estimator = Comodulogram(fs=fs, low_fq_range=np.arange(1, 41), low_fq_width=2.,\n                             method='duprelatour', progress_bar=False)\n\n    # Compute the comodulogram\n    estimator.fit(sig)\n\n    # Plot the results\n    estimator.plot(axs=[ax], tight_layout=False, titles=[title])"
      ]
    },
    {
      "cell_type": "markdown",
      "metadata": {},
      "source": [
        "### Plot time series for each recording\n\nNow let's see how each signal looks in time. The third plot of spikes is\nadded to pink noise to make the second plot which is the spurious pac.\nThis is so that where the spikes occur can be noted in the spurious pac plot.\n\n\n"
      ]
    },
    {
      "cell_type": "code",
      "execution_count": null,
      "metadata": {
        "collapsed": false
      },
      "outputs": [],
      "source": [
        "time = np.arange(0, n_seconds, 1/fs)\n\nfig, axes = plt.subplots(nrows=4, figsize=(16, 12), sharex=True)\nxlim = (0, 1)\n\n# Plot PAC\nplot_time_series(time, sig_pac, title=titles[0], xlabel='', colors='C0', ax=axes[0], xlim=xlim)\n\n# Plot spurious PAC\nplot_time_series(time, sig_spurious_pac, title=titles[1], xlabel='', colors='C1', ax=axes[1], xlim=xlim)\n\n# Plot spikes\nplot_time_series(time, spikes, title='Spikes', xlabel='', colors='C2', ax=axes[2], xlim=xlim)\n\n# Plot signal with no PAC\nplot_time_series(time, sig_no_pac, title=titles[2], colors='C3', ax=axes[3], xlim=xlim)"
      ]
    },
    {
      "cell_type": "markdown",
      "metadata": {},
      "source": [
        "### Compute cycle-by-cycle features\n\nHere we use the bycycle the `BycycleGroup`` class to compute the cycle-by-\ncycle features of the three signals.\n\n\n"
      ]
    },
    {
      "cell_type": "code",
      "execution_count": null,
      "metadata": {
        "collapsed": false
      },
      "outputs": [],
      "source": [
        "# Set parameters for defining oscillatory bursts\nthresholds = {\n    'amp_fraction_threshold': 0.3,\n    'amp_consistency_threshold': 0.4,\n    'period_consistency_threshold': 0.5,\n    'monotonicity_threshold': 0.8,\n    'min_n_cycles': 3\n}\n\nsigs = np.vstack([sig_pac, sig_spurious_pac, sig_no_pac])\n\nbg = BycycleGroup(thresholds=thresholds, center_extrema='trough', return_samples=False)\n\nbg.fit(sigs, fs, f_beta)\n\ndfs = {\n    'pac': bg.df_features[0],\n    'spurious': bg.df_features[1],\n    'no_pac': bg.df_features[2],\n}"
      ]
    },
    {
      "cell_type": "markdown",
      "metadata": {},
      "source": [
        "### Plot feature distributions\n\nAs shown in the feature distributions, the pac signal displays some peak-\ntough asymmetry as does the spurious pac signal.\n\n\n"
      ]
    },
    {
      "cell_type": "code",
      "execution_count": null,
      "metadata": {
        "collapsed": false
      },
      "outputs": [],
      "source": [
        "fig, axes = plt.subplots(figsize=(15, 15), nrows=2, ncols=2)\n\nfor idx, key in enumerate(dfs):\n\n    # Rescale periods\n    dfs[key]['period'] = dfs[key]['period'] / fs * 1000\n\n    # Plot feature histograms\n    plot_feature_hist(dfs[key], 'volt_amp', only_bursts=False, ax=axes[0][0],\n                      label=titles[idx], xlabel='Cycle amplitude (mV)', )\n\n    plot_feature_hist(dfs[key], 'period', only_bursts=False, ax=axes[0][1],\n                      label=titles[idx], xlabel='Cycle period (ms)')\n\n    plot_feature_hist(dfs[key], 'time_rdsym', only_bursts=False, ax=axes[1][0],\n                      label=titles[idx], xlabel='Rise-decay asymmetry')\n\n    plot_feature_hist(dfs[key], 'time_ptsym', only_bursts=False, ax=axes[1][1],\n                      label=titles[idx], xlabel='Peak-trough asymmetry')"
      ]
    }
  ],
  "metadata": {
    "kernelspec": {
      "display_name": "Python 3",
      "language": "python",
      "name": "python3"
    },
    "language_info": {
      "codemirror_mode": {
        "name": "ipython",
        "version": 3
      },
      "file_extension": ".py",
      "mimetype": "text/x-python",
      "name": "python",
      "nbconvert_exporter": "python",
      "pygments_lexer": "ipython3",
      "version": "3.13.2"
    }
  },
  "nbformat": 4,
  "nbformat_minor": 0
}