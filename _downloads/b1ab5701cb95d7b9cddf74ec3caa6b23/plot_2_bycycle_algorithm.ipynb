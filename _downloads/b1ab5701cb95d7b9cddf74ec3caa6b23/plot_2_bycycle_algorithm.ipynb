{
  "cells": [
    {
      "cell_type": "markdown",
      "metadata": {},
      "source": [
        "\n# 2. Cycle-by-cycle algorithm\n\nDemonstration of the cycle-by-cycle approach.\n\nIn the last tutorial notebook, I described the conventional approach for analyzing time-varying\nproperties of neural oscillations, and in this notebook, we will go over our alternative approach.\nThe fundamental goal of this approach is to characterize neural oscillations directly in the time\ndomain. However, this is not straightforward because it attempts to extract the properties of the\noscillatory component, despite the large amount of noise. Specifically, there are two very difficult\nproblems:\n\n1. What are the features of the oscillation? How do they vary over time?\n2. During what times is the oscillation present?\n\nThe cycle-by-cycle approach deploys a few strategies to approach these questions. As its name\nindicates, this algorithm segments the signal into individual cycles and then analyzes their\nfeatures separately from one another. Normally, some preprocessing is recommended to aid in\nlocalizing peaks and troughs (eliminating high frequency power that mostly do not comprise the\noscillator of interest). Additionally, a burst detection approach is applied to define the segments\nof the signal to be analyzed for their oscillatory properties.\n\nDuring this process (as with all data analyses), it is important to be aware if the data is being\nprocessed appropriately. As signal processing is complicated, it is very beneficial to visualize\nthe measured features along with the raw data to assure they make sense.\n"
      ]
    },
    {
      "cell_type": "markdown",
      "metadata": {},
      "source": [
        "## 0. Preprocess signal\nA crucial part of the cycle-by-cycle approach is the ability to localize the peaks and troughs of\nthe oscillation. Therefore, some preprocessing of the signal is often useful in order to make\nthese extrema more apparent, i.e. isolate the oscillation component and minimize the\nnonoscillatory components. One effective way of doing this is by applying a lowpass filter. The\nchoice of cutoff frequency is very important. The cutoff frequency should not be low enough in\norder to remove high frequency \"noise\" that interferes with extrema localization but not so low\nthat it deforms the shape of the oscillation of interest. In order to assess this, the user should\nplot the filtered signal in comparison to the original signal.\n\n"
      ]
    },
    {
      "cell_type": "code",
      "execution_count": null,
      "metadata": {
        "collapsed": false
      },
      "outputs": [],
      "source": [
        "import numpy as np\nimport pandas as pd\n\nfrom neurodsp.filt import filter_signal\nfrom neurodsp.plts import plot_time_series\nfrom neurodsp.sim import sim_combined\n\nfrom bycycle import Bycycle\nfrom bycycle.cyclepoints import find_extrema, find_zerox\nfrom bycycle.cyclepoints.zerox import find_flank_zerox\nfrom bycycle.plts import plot_cyclepoints_array\nfrom bycycle.utils.download import load_bycycle_data\n\npd.options.display.max_columns = 10"
      ]
    },
    {
      "cell_type": "code",
      "execution_count": null,
      "metadata": {
        "collapsed": false
      },
      "outputs": [],
      "source": [
        "# Load data\nsig = load_bycycle_data('ca1.npy', folder='data')\nfs = 1250\n\n# Filter settings\nf_theta = (4, 10)\nf_lowpass = 30\nn_seconds_filter = .1\n\n# Lowpass filter\nsig_low = filter_signal(sig, fs, 'lowpass', f_lowpass,\n                        n_seconds=n_seconds_filter, remove_edges=False)\n\n# Plot signal\ntimes = np.arange(0, len(sig)/fs, 1/fs)\nxlim = (2, 5)\ntidx = np.logical_and(times >= xlim[0], times < xlim[1])\n\nplot_time_series(times[tidx], [sig[tidx], sig_low[tidx]], colors=['k', 'k'], alpha=[.5, 1], lw=2)"
      ]
    },
    {
      "cell_type": "markdown",
      "metadata": {},
      "source": [
        "## 1. Localize peaks and troughs\n\nIn order to characterize the oscillation, it is useful to know the precise times of peaks and\ntroughs. For one, this will allow us to compute the periods and rise-decay symmetries of the\nindividual cycles. To do this, the signal is first narrow-bandpass filtered in order to estimate\n\"zero-crossings.\" Then, in between these zerocrossings, the absolute maxima and minima are found\nand labeled as the peaks and troughs, respectively.\n\n"
      ]
    },
    {
      "cell_type": "code",
      "execution_count": null,
      "metadata": {
        "collapsed": false
      },
      "outputs": [],
      "source": [
        "# Narrowband filter signal\nn_seconds_theta = .75\nsig_narrow = filter_signal(sig, fs, 'bandpass', f_theta,\n                           n_seconds=n_seconds_theta, remove_edges=False)\n\n# Find rising and falling zerocrossings (narrowband)\nrise_xs = find_flank_zerox(sig_narrow, 'rise')\ndecay_xs = find_flank_zerox(sig_narrow, 'decay')"
      ]
    },
    {
      "cell_type": "code",
      "execution_count": null,
      "metadata": {
        "collapsed": false
      },
      "outputs": [],
      "source": [
        "# Find peaks and troughs (this function also does the above)\npeaks, troughs = find_extrema(sig_low, fs, f_theta,\n                              filter_kwargs={'n_seconds':n_seconds_theta})\n\nplot_cyclepoints_array(sig_low, fs, peaks=peaks, troughs=troughs, xlim=(12, 15))"
      ]
    },
    {
      "cell_type": "markdown",
      "metadata": {},
      "source": [
        "### Note the filter characteristics used in the process of finding peaks and troughs\n\n"
      ]
    },
    {
      "cell_type": "code",
      "execution_count": null,
      "metadata": {
        "collapsed": false
      },
      "outputs": [],
      "source": [
        "# Plot frequency response of bandpass filter\nsig_filt = filter_signal(sig, fs, 'bandpass', (4, 10), n_seconds=.75, plot_properties=True)"
      ]
    },
    {
      "cell_type": "markdown",
      "metadata": {},
      "source": [
        "## 2. Localize rise and decay midpoints\n\nIn addition to localizing the peaks and troughs of a cycle, we also want to get more information\nabout the rise and decay periods. For instance, these flanks may have deflections if the peaks or\ntroughs are particularly sharp. In order to gauge a dimension of this, we localize midpoints for\neach of the rise and decay segments. These midpoints are defined as the times at which the voltage\ncrosses halfway between the adjacent peak and trough voltages. If this threshold is crossed\nmultiple times, then the median time is chosen as the flank midpoint. This is not perfect;\nhowever, this is rare, and most of these cycles should be removed by burst detection.\n\nNote: Plotting midpoints and extrema may also be performed using the dataframe output from\n:func:`~.compute_features` with the :func:`~.plot_cyclepoints` function.\n\n"
      ]
    },
    {
      "cell_type": "code",
      "execution_count": null,
      "metadata": {
        "collapsed": false
      },
      "outputs": [],
      "source": [
        "rises, decays = find_zerox(sig_low, peaks, troughs)\n\nplot_cyclepoints_array(sig_low, fs, xlim=(13, 14), peaks=peaks, troughs=troughs,\n                       rises=rises, decays=decays)"
      ]
    },
    {
      "cell_type": "markdown",
      "metadata": {},
      "source": [
        "## 3. Compute features of each cycle\nAfter these 4 points of each cycle are localized, we compute some simple statistics for each\ncycle. The main cycle-by-cycle object, :class:`~.Bycycle`, has a `df_features` dataframe\nattribute containing cycle features and sample locations of cyclepoints in the signal. Each entry\nor row in either dataframe is a cycle and each column is a property of that cycle (see table below).\nThe four main features are:\n\n- amplitude (volt_amp) - average voltage change of the rise and decay\n- period (period) - time between consecutive troughs (or peaks, if default is changed)\n- rise-decay symmetry (time_rdsym) - fraction of the period in the rise period\n- peak-trough symmetry (time_ptsym) - fraction of the period in the peak period\n\nNote that a warning appears here because no burst detection parameters are provided. This is\naddressed in [section #4](https://bycycle-tools.github.io/bycycle/auto_tutorials/plot_2_bycycle_algorithm.html#determine-parts-of-signal-in-oscillatory-burst).\n\n"
      ]
    },
    {
      "cell_type": "code",
      "execution_count": null,
      "metadata": {
        "collapsed": false
      },
      "outputs": [],
      "source": [
        "bm = Bycycle()\nbm.fit(sig, fs, f_theta)"
      ]
    },
    {
      "cell_type": "code",
      "execution_count": null,
      "metadata": {
        "collapsed": false
      },
      "outputs": [],
      "source": [
        "bm.df_features"
      ]
    },
    {
      "cell_type": "code",
      "execution_count": null,
      "metadata": {
        "collapsed": false
      },
      "outputs": [],
      "source": [
        "# Dataframe columns are directly accessible via attributes\nbm.volt_amp"
      ]
    },
    {
      "cell_type": "markdown",
      "metadata": {},
      "source": [
        "## 4. Determine parts of signal in oscillatory burst\nNote above that the signal is segmented into cycles and the dataframe provides properties for each\nsegment of the signal. However, if no oscillation is apparent in the signal at a given time, the\nproperties for these \"cycles\" are meaningless. Therefore, it is useful to have a binary indicator\nfor each cycle that indicates whether the cycle being analyzed is truly part of an oscillatory\nburst or not. Recently, significant interest has emerged in detecting bursts in signals and\nanalyzing their properties (see e.g. Feingold et al., PNAS, 2015). Nearly all efforts toward burst\ndetection relies on amplitude thresholds, but this can be disadvantageous because these algorithms\nwill behave very differently on signals where oscillations are common versus rare.\n\nIn our approach, we employ an alternative technique for burst detection. There are 3 thresholds\nthat need to be met in order for a cycle to be classified as part of an oscillatory burst.\n\n1. amplitude consistency - consecutive rises and decays should be comparable in magnitude.\n\n- The amplitude consistency of a cycle is equal to the maximum relative difference between rises\n  and decay amplitudes across all pairs of adjacent rises and decays that include one of the\n  flanks in the cycle (3 pairs)\n- e.g. if a rise is 10mV and a decay is 7mV, then its amplitude consistency is 0.7.\n\n2. period consistency - consecutive cycles should be comparable in duration\n\n- The period consistency is equal to the maximu relative difference between all pairs of\n  adjacent periods that include the cycle of interest (2 pairs: current + previous cycles and\n  current + next cycles)\n- e.g. if the previous, current, and next cycles have periods 60ms, 100ms, and 120ms,\n  respectively, then the period consistency is min(60/100, 100/120) = 0.6.\n\n3. monotonicity - the rise and decay flanks of the cycle should be mostly monotonic\n\n- The monotonicity is the fraction of samples that the instantaneous derivative (numpy.diff) is\n  consistent with the direction of the flank.\n- e.g. if in the rise, the instantaneous derivative is 90% positive, and in the decay, the\n  instantaneous derivative is 80% negative, then the monotonicity of the cycle would be 0.85\n  ((0.9+0.8)/2)\n\nBelow, we load a simulated signal and then define 3 sets of thresholds ranging from liberal to\nconservative.\n\n### Load a simulated signal and apply a lowpass filter\n\n"
      ]
    },
    {
      "cell_type": "code",
      "execution_count": null,
      "metadata": {
        "collapsed": false
      },
      "outputs": [],
      "source": [
        "# Simulate a signal\nn_seconds = 10\nfs = 1000  # Sampling rate\nf_alpha = (8, 12)\n\ncomponents = {'sim_bursty_oscillation': {'freq': 10, 'enter_burst': .1, 'leave_burst': .1},\n              'sim_powerlaw': {'f_range': (2, None)}}\nsig = sim_combined(n_seconds, fs, components=components, component_variances=(5, 1))\n\n# Apply a lowpass filter to remove high frequency power that interferes with extrema localization\nsig = filter_signal(sig, fs, 'lowpass', 30, n_seconds=.2, remove_edges=False)"
      ]
    },
    {
      "cell_type": "markdown",
      "metadata": {},
      "source": [
        "### Visualizing burst detection settings\nBelow, we visualize how the burst detector determined which cycles were part of an oscillatory\nburst. The top plot shows a markup of the time series. The portions of the signal in red were\ndetermined to be parts of bursts. Signals in black were not part of bursts. Magenta and cyan dots\ndenote detected peaks and troughs, respectively. Highlights indicate cycles marked as not part of\na burst because they did not meet certain thresholds:\n\n- red highlight: amplitude consistency threshold violation\n- yellow highlight: period consistency threshold violation\n- green highlight: monotonicity threshold violation The plots below show the relevant features \\\n  for each cycle as well as the threshold (dotted lines), where we can see the highlights appear \\\n  if the features went below the threshold.\n\nNote there is an optional \"band amplitude fraction\" threshold. This is currently unused (set to 0)\n, but is present in case users want to add an amplitude threshold to this algorithm.\n\n### Burst detection settings: too liberal\nThe following burst detection thresholds (defined in burst_kwargs) are too low, so some portions\nof the signal that do not have much apparent oscillatory burst are still labeled as if they do.\n\n"
      ]
    },
    {
      "cell_type": "code",
      "execution_count": null,
      "metadata": {
        "collapsed": false
      },
      "outputs": [],
      "source": [
        "thresholds = {\n    'amp_fraction': 0,\n    'amp_consistency': .2,\n    'period_consistency': .45,\n    'monotonicity': .7,\n    'min_n_cycles': 3\n}\n\nbm = Bycycle(thresholds=thresholds)\nbm.fit(sig, fs, f_alpha)\nbm.plot(figsize=(16, 3))"
      ]
    },
    {
      "cell_type": "markdown",
      "metadata": {},
      "source": [
        "### Burst detection settings: too conservative\nThese new burst detection thresholds seem to be set too high (too strict) as the algorithm is not\nable to detect the bursts that are present.\n\n"
      ]
    },
    {
      "cell_type": "code",
      "execution_count": null,
      "metadata": {
        "collapsed": false
      },
      "outputs": [],
      "source": [
        "thresholds = {\n    'amp_fraction': 0,\n    'amp_consistency': .75,\n    'period_consistency': .7,\n    'monotonicity': .9,\n    'min_n_cycles': 3\n}\n\nbm = Bycycle(thresholds=thresholds)\nbm.fit(sig, fs, f_alpha)\nbm.plot(figsize=(16, 3))"
      ]
    },
    {
      "cell_type": "markdown",
      "metadata": {},
      "source": [
        "### More appropriate burst detection thresholds\nThe conservative thresholds were then lowered, and we can see now that the algorithms correctly\nidentifies parts of the 3 bursting periods. Therefore, for a signal with this level of noise, we\nexpect these parameters to be pretty good.\n\nNotice that adding a small amplitude fraction threshold (e.g. 0.3) helps remove some false\npositives that may occur, like that around 1.5 seconds. Consisitency features for non-bursting\ncycles on the edges of bursts may be recomputed to reduce false negatives when entering or exiting\na burst.\n\n\n"
      ]
    },
    {
      "cell_type": "code",
      "execution_count": null,
      "metadata": {
        "collapsed": false
      },
      "outputs": [],
      "source": [
        "thresholds = {\n    'amp_fraction': .3,\n    'amp_consistency': .4,\n    'period_consistency': .5,\n    'monotonicity': .8,\n    'min_n_cycles': 3\n}\n\nbm = Bycycle(thresholds=thresholds)\nbm.fit(sig, fs, f_alpha)\nbm.plot(figsize=(16, 3))"
      ]
    }
  ],
  "metadata": {
    "kernelspec": {
      "display_name": "Python 3",
      "language": "python",
      "name": "python3"
    },
    "language_info": {
      "codemirror_mode": {
        "name": "ipython",
        "version": 3
      },
      "file_extension": ".py",
      "mimetype": "text/x-python",
      "name": "python",
      "nbconvert_exporter": "python",
      "pygments_lexer": "ipython3",
      "version": "3.13.2"
    }
  },
  "nbformat": 4,
  "nbformat_minor": 0
}